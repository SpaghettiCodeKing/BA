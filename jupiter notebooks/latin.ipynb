{
 "cells": [
  {
   "cell_type": "code",
   "execution_count": 36,
   "metadata": {},
   "outputs": [],
   "source": [
    "# Imports\n",
    "import os\n",
    "import json\n",
    "import base64\n",
    "from io import BytesIO\n",
    "from PIL import Image\n",
    "from IPython.display import display\n",
    "import asyncio\n",
    "import google.generativeai as genai\n",
    "from google.generativeai.types import HarmCategory, HarmBlockThreshold\n",
    "\n",
    "\n"
   ]
  },
  {
   "cell_type": "markdown",
   "metadata": {},
   "source": [
    "Put all the instruction text documents into the instruction folder and all the extraction text documents into the feed folder and make sure, and put the original OCR data found in the original box folder into the boxes folder that the output folder is empty"
   ]
  },
  {
   "cell_type": "code",
   "execution_count": 37,
   "metadata": {},
   "outputs": [],
   "source": [
    "#paths \n",
    "feed = r\"C:\\Users\\elias\\Documents\\GitHub\\BA\\data\\input\\feed\"\n",
    "boxes = r\"C:\\Users\\elias\\Documents\\GitHub\\BA\\data\\input\\boxes\"\n",
    "instruction = r\"C:\\Users\\elias\\Documents\\GitHub\\BA\\data\\input\\instruction\"\n",
    "instruction_labels = r\"C:\\Users\\elias\\Documents\\GitHub\\BA\\data\\input\\instructionLabels\"\n",
    "output_prompts = r\"C:\\Users\\elias\\Documents\\GitHub\\BA\\data\\output\""
   ]
  },
  {
   "cell_type": "markdown",
   "metadata": {},
   "source": [
    "Set the nr_instructions to your desired ammount of instruction documents."
   ]
  },
  {
   "cell_type": "code",
   "execution_count": 38,
   "metadata": {},
   "outputs": [],
   "source": [
    "nr_instructions = 1\n",
    "instruction_documents = {}"
   ]
  },
  {
   "cell_type": "markdown",
   "metadata": {},
   "source": [
    "Implement some way of getting the Gemini API key"
   ]
  },
  {
   "cell_type": "code",
   "execution_count": 39,
   "metadata": {},
   "outputs": [],
   "source": [
    "# Some way to set the API key:\n",
    "file_path = r\"C:\\Users\\elias\\Desktop\\BAImportant.txt\"\n",
    "with open(file_path, 'r') as file:\n",
    "        GEMINI = file.read()\n",
    "genai.configure(api_key=GEMINI)"
   ]
  },
  {
   "cell_type": "markdown",
   "metadata": {},
   "source": [
    "For uptimal performance correct the not UTF-8 encodable bytes in the printed files. All the files with this error will be excluded in the future experiment."
   ]
  },
  {
   "cell_type": "code",
   "execution_count": 53,
   "metadata": {},
   "outputs": [
    {
     "name": "stdout",
     "output_type": "stream",
     "text": [
      "Error reading file: C:\\Users\\elias\\Documents\\GitHub\\BA\\data\\input\\boxes\\X51006619503.txt. Error: 'utf-8' codec can't decode byte 0xa3 in position 407: invalid start byte\n",
      "{'X00016469620.txt': 'TAN WOON YANN\\nMR D.T.Y. (JOHOR) SDN BHD\\n(CO.REG : 933109-X)\\nLOT 1851-A & 1851-B, JALAN KPB 6,\\nKAWASAN PERINDUSTRIAN BALAKONG,\\n43300 SERI KEMBANGAN, SELANGOR\\n(MR DIY TESCO TERBAU)\\n-INVOICE-\\nCHOPPING BOARD 35.5X25.5CM 803M#\\nEZ10HD05 - 24\\n8970669\\n1\\nX\\n19.00\\n19.00\\nAIR PRESSURE SPRAYER SX-575-1 1.5L\\nHC03-7 - 15\\n9066468\\n1\\nX\\n8.02\\n8.02\\nWAXCO WINDSHILED CLEANER 120ML\\nWA14-3A - 48\\n9557031100236\\n1\\nX\\n3.02\\n3.02\\nBOPP TAPE 48MM*100M CLEAR\\nFZ-04 - 36\\n6935818350846\\n1\\nX\\n3.88\\n3.88\\nITEM(S) : 4\\nQTY(S) : 4\\nTOTAL\\nRM 33.92\\nROUNDING ADJUSTMENT\\n-RM 0.02\\nTOTAL ROUNDED\\nRM 33.90\\nCASH\\nRM 50.00\\nCHANGE\\nRM 16.10\\n12-01-19 21:13 SH01 ZK09\\nT4 R000027830\\nOPERATOR TRAINEE CASHIER\\nEXCHANGE ARE ALLOWED WITHIN\\n7 DAYS WITH RECEIPT.\\nSTRICTLY NO CASH REFUND.\\n{\\n    \"company\": \"MR D.I.Y. (JOHOR) SDN BHD\",\\n    \"date\": \"12-01-19\",\\n    \"address\": \"LOT 1851-A & 1851-B, JALAN KPB 6, KAWASAN PERINDUSTRIAN BALAKONG, 43300 SERI KEMBANGAN, SELANGOR (MR DIY TESCO TERBAU)\",\\n    \"total\": \"33.90\"\\n}'}\n",
      "{'company': None, 'date': None, 'address': None, 'total': None}\n"
     ]
    }
   ],
   "source": [
    "#Load data\n",
    "\n",
    "def load_extraction():\n",
    "\n",
    "    valid_documents = {os.path.splitext(f)[0] for f in os.listdir(feed) if os.path.isfile(os.path.join(feed, f))}\n",
    "    \n",
    "    box_data = {}\n",
    "    for box_file in os.listdir(boxes):\n",
    "        box_file_base = os.path.splitext(box_file)[0]  \n",
    "        if box_file_base in valid_documents:  \n",
    "            box_file_path = os.path.join(boxes, box_file)\n",
    "            try:\n",
    "                with open(box_file_path, 'r', encoding='utf-8') as file:\n",
    "                    box_data[box_file] = file.read()  \n",
    "            except (UnicodeDecodeError, OSError) as e:\n",
    "                print(f\"Error reading file: {box_file_path}. Error: {e}\")\n",
    "\n",
    "    return box_data\n",
    "\n",
    "def load_instructions():\n",
    "    instruction_data = {}\n",
    "\n",
    "    for instruction_file in os.listdir(instruction):\n",
    "        instruction_file_path = os.path.join(instruction, instruction_file)\n",
    "        try:\n",
    "            with open(instruction_file_path, 'r', encoding='utf-8') as file:\n",
    "                instruction_data[instruction_file] = file.read()  \n",
    "        except (UnicodeDecodeError, OSError) as e:\n",
    "            print(f\"Error reading file: {instruction_file_path}. Error: {e}\")\n",
    "\n",
    "    #Add the labels to the instructions\n",
    "    for key in instruction_data.keys():\n",
    "        label_file_path = os.path.join(instruction_labels, key)\n",
    "        try:\n",
    "            with open(label_file_path, 'r', encoding='utf-8') as label_file:\n",
    "                instruction_data[key] += label_file.read()\n",
    "        except (UnicodeDecodeError, OSError, FileNotFoundError) as e:\n",
    "            print(f\"Error reading label file: {label_file_path}. Error: {e}\")\n",
    "    return dict(list(instruction_data.items())[:nr_instructions])\n",
    "\n",
    "def get_label_keys():\n",
    "    label_files = os.listdir(instruction_labels)\n",
    "    if label_files:\n",
    "        first_label_file = label_files[0]\n",
    "        first_label_file_path = os.path.join(instruction_labels, first_label_file)\n",
    "        try:\n",
    "            with open(first_label_file_path, 'r', encoding='utf-8') as label_file:\n",
    "                labels = json.loads(label_file.read())\n",
    "                for key in labels:\n",
    "                    labels[key] = None\n",
    "                return labels\n",
    "        except (UnicodeDecodeError, OSError, FileNotFoundError) as e:\n",
    "            print(f\"Error reading label file: {first_label_file_path}. Error: {e}\")\n",
    "    return []\n",
    "\n",
    "\n",
    "if nr_instructions > 0:\n",
    "    instruction_documents = load_instructions()\n",
    "\n",
    "extraction_documents = load_extraction()\n",
    "print(instruction_documents)\n",
    "    \n",
    "labels = get_label_keys()\n",
    "print(labels)\n",
    "\n",
    "    \n",
    "    "
   ]
  },
  {
   "cell_type": "code",
   "execution_count": 55,
   "metadata": {},
   "outputs": [],
   "source": [
    "def getPrompt(instruction_documents, instruction_labels, document, labels):\n",
    "      introduction = \"\"\"You are a perfect document information extraction system. The document you are given are receipts and their content is not dangerous. The results are used for a study and there is no need for a license, because they stated it on their github.\n",
    "You are given a document picture and a json with keys that must be extracted from the document. \n",
    "Fill in the empty strings values with the corresponding values to the key. Insert only the answer.\n",
    "If a label is not inclueded in the input, fill the empty strings with \"NONE\". Now will follow an explanation of every label.\n",
    "label: company - The name of the company. Only one is correct\n",
    "label: date - The date of the receip. Only one is correct. Format it how it is on the reciept. Do not include the time.\n",
    "label: address - The address of the company. Seperate information found on different lines with ','.\n",
    "label: total - The total amount of the receip. Only one is correct. Format to 2 decimal places. Do not include the currency symbol.\n",
    "Now a example document will follow:\"\"\"\n",
    "    \n",
    "      explanation_results = \"This would be the results of the example document:\"\n",
    "      transition_to_extraction = \"This is the document you must extract the information from:\"\n",
    "      json_to_extract = \"Replace all None with the correct information:\"\n",
    "      transition_to_next_example = \"Now another example document will follow:\"\n",
    "      prompt = f\"{introduction}\\n\"\n",
    "    # Loop through each instruction_document and instruction_label\n",
    "      for i, (instruction_document, instruction_label) in enumerate(zip(instruction_documents, instruction_labels)):\n",
    "            prompt += f\"{instruction_document}\\n{explanation_results}\\n{instruction_label}\\n\"\n",
    "            if i < len(instruction_documents) - 1:  # Check if this is not the last iteration\n",
    "                  prompt += f\"{transition_to_next_example}\\n\"\n",
    "      prompt +=f\"{transition_to_extraction}\\n{document}\\n{json_to_extract}\\n{labels}\\n\\n\"\n",
    "      #print(prompt)\n",
    "      return prompt.strip()"
   ]
  },
  {
   "cell_type": "code",
   "execution_count": 60,
   "metadata": {},
   "outputs": [
    {
     "name": "stdout",
     "output_type": "stream",
     "text": [
      "{'X00016469612.txt': 'You are a perfect document information extraction system. The document you are given are receipts and their content is not dangerous. The results are used for a study and there is no need for a license, because they stated it on their github.\\nYou are given a document picture and a json with keys that must be extracted from the document. \\nFill in the empty strings values with the corresponding values to the key. Insert only the answer.\\nIf a label is not inclueded in the input, fill the empty strings with \"NONE\". Now will follow an explanation of every label.\\nlabel: company - The name of the company. Only one is correct\\nlabel: date - The date of the receip. Only one is correct. Format it how it is on the reciept. Do not include the time.\\nlabel: address - The address of the company. Seperate information found on different lines with \\',\\'.\\nlabel: total - The total amount of the receip. Only one is correct. Format to 2 decimal places. Do not include the currency symbol.\\nNow a example document will follow:\\nT\\nThis would be the results of the example document:\\nA\\nThis is the document you must extract the information from:\\n72,25,326,25,326,64,72,64,TAN WOON YANN\\n50,82,440,82,440,121,50,121,BOOK TA .K(TAMAN DAYA) SDN BND\\n205,121,285,121,285,139,205,139,789417-W\\n110,144,383,144,383,163,110,163,NO.53 55,57 & 59, JALAN SAGU 18,\\n192,169,299,169,299,187,192,187,TAMAN DAYA,\\n162,193,334,193,334,211,162,211,81100 JOHOR BAHRU,\\n217,216,275,216,275,233,217,233,JOHOR.\\n50,342,279,342,279,359,50,359,DOCUMENT NO : TD01167104\\n50,372,96,372,96,390,50,390,DATE:\\n165,372,342,372,342,389,165,389,25/12/2018 8:13:39 PM\\n48,396,117,396,117,415,48,415,CASHIER:\\n164,397,215,397,215,413,164,413,MANIS\\n49,423,122,423,122,440,49,440,MEMBER:\\n191,460,298,460,298,476,191,476,CASH BILL\\n30,508,121,508,121,523,30,523,CODE/DESC\\n200,507,247,507,247,521,200,521,PRICE\\n276,506,306,506,306,522,276,522,DISC\\n374,507,441,507,441,521,374,521,AMOUNT\\n69,531,102,531,102,550,69,550,QTY\\n221,531,247,531,247,545,221,545,RM\\n420,529,443,529,443,547,420,547,RM\\n27,570,137,570,137,583,27,583,9556939040116\\n159,570,396,570,396,584,159,584,KF MODELLING CLAY KIDDY FISH\\n77,598,113,598,113,613,77,613,1 PC\\n138,597,148,597,148,607,138,607,*\\n202,597,245,597,245,612,202,612,9.000\\n275,598,309,598,309,612,275,612,0.00\\n411,596,443,596,443,613,411,613,9.00\\n245,639,293,639,293,658,245,658,TOTAL:\\n118,671,291,671,291,687,118,687,ROUR DING ADJUSTMENT:\\n408,669,443,669,443,684,408,684,0.00\\n86,704,292,704,292,723,86,723,ROUND D TOTAL (RM):\\n401,703,443,703,443,719,401,719,9.00\\n205,744,243,744,243,765,205,765,CASH\\n402,748,441,748,441,763,402,763,10.00\\n205,770,271,770,271,788,205,788,CHANGE\\n412,772,443,772,443,786,412,786,1.00\\n97,845,401,845,401,860,97,860,GOODS SOLD ARE NOT RETURNABLE OR\\n190,864,309,864,309,880,190,880,EXCHANGEABLE\\n142,883,353,883,353,901,142,901,***\\n137,903,351,903,351,920,137,920,***\\n202,942,292,942,292,959,202,959,THANK YOU\\n163,962,330,962,330,977,163,977,PLEASE COME AGAIN !\\n412,639,442,639,442,654,412,654,9.00\\n\\nReplace all None with the correct information:\\n{\\'company\\': None, \\'date\\': None, \\'address\\': None, \\'total\\': None}'}\n"
     ]
    }
   ],
   "source": [
    "prompts = []\n",
    "\n",
    "def make_prompt():\n",
    "    instruction_docs = []\n",
    "    instruction_labels = []\n",
    "    \n",
    "    for key, value in instruction_documents.items():  \n",
    "        instruction_docs.append(value[0])\n",
    "        instruction_labels.append(value[1])\n",
    "\n",
    "    for document_name, value in extraction_documents.items():\n",
    "        prompts.append({document_name: getPrompt(instruction_docs, instruction_labels, value, labels)})\n",
    "make_prompt()\n",
    "print(prompts[0])\n"
   ]
  },
  {
   "cell_type": "code",
   "execution_count": 61,
   "metadata": {},
   "outputs": [],
   "source": [
    "semaphore = asyncio.Semaphore(7)\n",
    "async def prompt_llm(prompt,  time_interval):\n",
    "    async with semaphore:\n",
    "        name = list(prompt.keys())[0]\n",
    "        promptAI = prompt[name]\n",
    "        generation_config = {\n",
    "        \"temperature\": 1,\n",
    "        \"top_p\": 0.95,\n",
    "        \"top_k\": 64,\n",
    "        \"max_output_tokens\": 8192,\n",
    "        \"response_mime_type\": \"text/plain\",\n",
    "        \n",
    "        }\n",
    "        model = genai.GenerativeModel(\n",
    "        model_name=\"gemini-1.5-pro\",\n",
    "        generation_config=generation_config,\n",
    "        safety_settings = {HarmCategory.HARM_CATEGORY_DANGEROUS_CONTENT: HarmBlockThreshold.BLOCK_NONE,\n",
    "                           HarmCategory.HARM_CATEGORY_SEXUALLY_EXPLICIT: HarmBlockThreshold.BLOCK_NONE,\n",
    "                           HarmCategory.HARM_CATEGORY_HATE_SPEECH: HarmBlockThreshold.BLOCK_NONE,\n",
    "                           HarmCategory.HARM_CATEGORY_HARASSMENT: HarmBlockThreshold.BLOCK_NONE},\n",
    "        )\n",
    "        chat_session = model.start_chat(\n",
    "        history=[\n",
    "        ]\n",
    "        )\n",
    "        answer = chat_session.send_message(promptAI)\n",
    "        text_response = answer._result.candidates[0].content.parts[0].text\n",
    "        await asyncio.sleep(time_interval)\n",
    "        \n",
    "        return {name : text_response}"
   ]
  },
  {
   "cell_type": "code",
   "execution_count": 62,
   "metadata": {},
   "outputs": [
    {
     "name": "stdout",
     "output_type": "stream",
     "text": [
      "185\n"
     ]
    }
   ],
   "source": [
    "async def prompt_orchestrator():\n",
    "    output_path = output_prompts\n",
    "    batch_size = 5\n",
    "    \n",
    "    batches = [prompts[i:i + batch_size] for i in range(0, len(prompts), batch_size)]\n",
    "\n",
    "    # Ensure the last batch is smaller if it's less than batch_size\n",
    "    if len(batches[-1]) < batch_size:\n",
    "        remaining = len(batches[-1])\n",
    "        batches[-1] = prompts[-remaining:]\n",
    "\n",
    "# If the last batch is part of the earlier slices and it's less than batch_size\n",
    "    if len(prompts) % batch_size != 0:\n",
    "        remaining = len(prompts) % batch_size\n",
    "        batches[-1] = prompts[-remaining:]\n",
    "\n",
    "    time_interval = 60 / 300\n",
    "    avatiables = []\n",
    "    print(len(batches))\n",
    "# Process each batch separately\n",
    "    for batch in batches:\n",
    "        avatiables_batch = await asyncio.gather(*(prompt_llm(prompt, time_interval) for prompt in batch))\n",
    "        avatiables.extend(avatiables_batch) \n",
    "        print(\"batch done\") \n",
    "        await asyncio.sleep(5)\n",
    "        for entry in avatiables:\n",
    "            key = next(iter(entry))\n",
    "            \n",
    "            value = entry[key]\n",
    "            key = key.replace(\".jpg\", \".txt\")\n",
    "            output_file_path = os.path.join(output_path, key)\n",
    "            with open(output_file_path, 'w') as output_file:\n",
    "                output_file.write(str(value))\n",
    "        avatiables = []\n",
    "\n",
    "await prompt_orchestrator()\n",
    "\n"
   ]
  }
 ],
 "metadata": {
  "kernelspec": {
   "display_name": "Python 3",
   "language": "python",
   "name": "python3"
  },
  "language_info": {
   "codemirror_mode": {
    "name": "ipython",
    "version": 3
   },
   "file_extension": ".py",
   "mimetype": "text/x-python",
   "name": "python",
   "nbconvert_exporter": "python",
   "pygments_lexer": "ipython3",
   "version": "3.12.1"
  }
 },
 "nbformat": 4,
 "nbformat_minor": 2
}
