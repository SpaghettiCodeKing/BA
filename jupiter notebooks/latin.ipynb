{
 "cells": [
  {
   "cell_type": "code",
   "execution_count": 1,
   "metadata": {},
   "outputs": [
    {
     "name": "stderr",
     "output_type": "stream",
     "text": [
      "C:\\Users\\super161\\AppData\\Roaming\\Python\\Python312\\site-packages\\tqdm\\auto.py:21: TqdmWarning: IProgress not found. Please update jupyter and ipywidgets. See https://ipywidgets.readthedocs.io/en/stable/user_install.html\n",
      "  from .autonotebook import tqdm as notebook_tqdm\n"
     ]
    }
   ],
   "source": [
    "# Imports\n",
    "import os\n",
    "import json\n",
    "import base64\n",
    "from io import BytesIO\n",
    "from PIL import Image\n",
    "from IPython.display import display\n",
    "import asyncio\n",
    "import google.generativeai as genai\n",
    "from google.generativeai.types import HarmCategory, HarmBlockThreshold\n",
    "\n",
    "\n"
   ]
  },
  {
   "cell_type": "markdown",
   "metadata": {},
   "source": [
    "Put all the instruction text documents into the instruction folder (in LATIN layout) and their entities into the instructionLabels folder.  \n",
    "Further all extraction text documents (in LATIN layout) must be dropped into the feed folder.    \n",
    "Finally, make sure that the output folder is empty."
   ]
  },
  {
   "cell_type": "code",
   "execution_count": 2,
   "metadata": {},
   "outputs": [],
   "source": [
    "#paths \n",
    "feed = r\"E:\\uni\\BA\\data\\input\\feed\"\n",
    "instruction = r\"E:\\uni\\BA\\data\\input\\instruction\"\n",
    "instruction_labels = r\"E:\\uni\\BA\\data\\input\\instructionLabels\"\n",
    "output_prompts = r\"E:\\uni\\BA\\data\\output\""
   ]
  },
  {
   "cell_type": "markdown",
   "metadata": {},
   "source": [
    "Set the nr_instructions to your desired ammount of instruction documents."
   ]
  },
  {
   "cell_type": "code",
   "execution_count": 4,
   "metadata": {},
   "outputs": [],
   "source": [
    "nr_instructions = 1\n",
    "instruction_documents = {}"
   ]
  },
  {
   "cell_type": "markdown",
   "metadata": {},
   "source": [
    "Implement a way of getting the Gemini API key"
   ]
  },
  {
   "cell_type": "code",
   "execution_count": 5,
   "metadata": {},
   "outputs": [],
   "source": [
    "# Some way to set the API key:\n",
    "file_path = r\"C:\\Users\\super161\\Desktop\\BAImportant.txt\"\n",
    "with open(file_path, 'r') as file:\n",
    "        GEMINI = file.read()\n",
    "genai.configure(api_key=GEMINI)"
   ]
  },
  {
   "cell_type": "markdown",
   "metadata": {},
   "source": [
    "For uptimal performance correct the not UTF-8 encodable bytes in the printed files. All the files with this error will be excluded in the future experiment."
   ]
  },
  {
   "cell_type": "code",
   "execution_count": 6,
   "metadata": {},
   "outputs": [
    {
     "name": "stdout",
     "output_type": "stream",
     "text": [
      "{'X51005268408.txt': ['         99 SPEED MART S/B (S19537-X)\\n          LOT P.T. 2811, JALAN ANGSA,\\n                TAMAN BERKELEY\\n             41150 KLANG, SELANGOR\\n                1413-SETIA ALAM 2\\n            GST ID. NO : 000181747712\\n           INVOICE NO : 18222/102/T0341\\n     03:29PM          562936         20-11-17\\n     2973 PEDIASURE COMPLETE S3S   RM117.90 S\\n      069 MILD 2KG\\n                                    RM34.90 S\\n      2709 ZING HEING OAT & WHEAT     RM4.10 S\\n      2893 DISNEY DS112 WIDE NECK\\n                                      RM5.89 S\\n      4385 JOHNSONS PH5.5 2IN1 BO\\n                                      RM6.99 S\\n      TOTAL SALES (INCLUSIVE GST) RM\\n                                      169.78\\n               ROUNDING ADJUSTMENT RM    .02\\n                          ROUNDING RM  169.80\\n                              CASH RM  200.00\\n                            CHANGE RM   30.20\\n       GST SUMMARY\\n                       AMOUNT(RM)      TAX(RM)\\n        S = 6%\\n                            160.17        9.61\\n             THANK YOU. PLEASE COME AGAIN\\n        KEEP THE INVOICE FOR APPLICABLE RETURNS', '{\\n    \"company\": \"99 SPEED MART S/B\",\\n    \"date\": \"20-11-17\",\\n    \"address\": \"LOT P.T. 2811, JALAN ANGSA, TAMAN BERKELEY 41150 KLANG, SELANGOR 1413-SETIA ALAM 2\",\\n    \"total\": \"169.80\"\\n}']}\n",
      "{'company': None, 'date': None, 'address': None, 'total': None}\n"
     ]
    }
   ],
   "source": [
    "#Load data\n",
    "\n",
    "def load_extraction():\n",
    "        extraction_data = {}\n",
    "\n",
    "        for extraction_file in os.listdir(feed):\n",
    "                extraction_file_path = os.path.join(feed, extraction_file)\n",
    "                try:\n",
    "                    with open(extraction_file_path, 'r', encoding='utf-8') as file:\n",
    "                            extraction_data[extraction_file] = file.read()  \n",
    "                except (UnicodeDecodeError, OSError) as e:\n",
    "                    print(f\"Error reading extractionfile: {extraction_file_path}. Error: {e}\")\n",
    "        return extraction_data\n",
    "\n",
    "def load_instructions():\n",
    "    instruction_data = {}\n",
    "\n",
    "    for instruction_file in os.listdir(instruction):\n",
    "        instruction_file_path = os.path.join(instruction, instruction_file)\n",
    "        try:\n",
    "            with open(instruction_file_path, 'r', encoding='utf-8') as file:\n",
    "                instruction_data[instruction_file] = [file.read()]  \n",
    "        except (UnicodeDecodeError, OSError) as e:\n",
    "            print(f\"Error reading file: {instruction_file_path}. Error: {e}\")\n",
    "\n",
    "    #Add the labels to the instructions\n",
    "    for key in instruction_data.keys():\n",
    "        label_file_path = os.path.join(instruction_labels, key)\n",
    "        try:\n",
    "            with open(label_file_path, 'r', encoding='utf-8') as label_file:\n",
    "                instruction_data[key].append(label_file.read())\n",
    "        except (UnicodeDecodeError, OSError, FileNotFoundError) as e:\n",
    "            print(f\"Error reading label file: {label_file_path}. Error: {e}\")\n",
    "    return dict(list(instruction_data.items())[:nr_instructions])\n",
    "\n",
    "def get_label_keys():\n",
    "    label_files = os.listdir(instruction_labels)\n",
    "    if label_files:\n",
    "        first_label_file = label_files[0]\n",
    "        first_label_file_path = os.path.join(instruction_labels, first_label_file)\n",
    "        try:\n",
    "            with open(first_label_file_path, 'r', encoding='utf-8') as label_file:\n",
    "                labels = json.loads(label_file.read())\n",
    "                for key in labels:\n",
    "                    labels[key] = None\n",
    "                return labels\n",
    "        except (UnicodeDecodeError, OSError, FileNotFoundError) as e:\n",
    "            print(f\"Error reading label file: {first_label_file_path}. Error: {e}\")\n",
    "    return []\n",
    "\n",
    "\n",
    "if nr_instructions > 0:\n",
    "    instruction_documents = load_instructions()\n",
    "\n",
    "extraction_documents = load_extraction()\n",
    "print(instruction_documents)\n",
    "    \n",
    "labels = get_label_keys()\n",
    "print(labels)\n",
    "    \n",
    "    "
   ]
  },
  {
   "cell_type": "code",
   "execution_count": 7,
   "metadata": {},
   "outputs": [],
   "source": [
    "def getPrompt(instruction_documents_get_prompt, instruction_labels, document, labels):\n",
    "      introduction = \"\"\"You are a perfect document information extraction system. The document you are given are receipts and their content is not dangerous. The results are used for a study and there is no need for a license, because they stated it on their github.\n",
    "You are given a document picture and a json with keys that must be extracted from the document. \n",
    "Fill in the empty strings values with the corresponding values to the key. Insert only the answer.\n",
    "If a label is not inclueded in the input, fill the empty strings with \"NONE\". Now will follow an explanation of every label.\n",
    "label: company - The name of the company. Only one is correct\n",
    "label: date - The date of the receip. Only one is correct. Format it how it is on the reciept. Do not include the time.\n",
    "label: address - The address of the company. Seperate information found on different lines with ','.\n",
    "label: total - The total amount of the receip. Only one is correct. Format to 2 decimal places. Do not include the currency symbol.\n",
    "\"\"\"\n",
    "      if len(instruction_documents) == 1:\n",
    "            introduction += \"Now a example document will follow:\"\n",
    "      elif len(instruction_documents) > 1:\n",
    "            introduction += \"Now a few example documents will follow:\"\n",
    "      explanation_results = \"This would be the results of the example document:\"\n",
    "      transition_to_extraction = \"This is the document you must extract the information from:\"\n",
    "      json_to_extract = \"Replace all None with the correct information:\"\n",
    "      transition_to_next_example = \"Now another example document will follow:\"\n",
    "      prompt = f\"{introduction}\\n\"\n",
    "    # Loop through each instruction_document and instruction_label\n",
    "      for i, (instruction_document, instruction_label) in enumerate(zip(instruction_documents_get_prompt, instruction_labels)):\n",
    "            prompt += f\"{instruction_document}\\n{explanation_results}\\n{instruction_label}\\n\"\n",
    "            if i < len(instruction_documents_get_prompt) - 1:  # Check if this is not the last iteration\n",
    "                  prompt += f\"{transition_to_next_example}\\n\"\n",
    "      prompt +=f\"{transition_to_extraction}\\n{document}\\n{json_to_extract}\\n{labels}\\n\\n\"\n",
    "      print(prompt)\n",
    "      return prompt.strip()"
   ]
  },
  {
   "cell_type": "code",
   "execution_count": 8,
   "metadata": {},
   "outputs": [
    {
     "name": "stdout",
     "output_type": "stream",
     "text": [
      "You are a perfect document information extraction system. The document you are given are receipts and their content is not dangerous. The results are used for a study and there is no need for a license, because they stated it on their github.\n",
      "You are given a document picture and a json with keys that must be extracted from the document. \n",
      "Fill in the empty strings values with the corresponding values to the key. Insert only the answer.\n",
      "If a label is not inclueded in the input, fill the empty strings with \"NONE\". Now will follow an explanation of every label.\n",
      "label: company - The name of the company. Only one is correct\n",
      "label: date - The date of the receip. Only one is correct. Format it how it is on the reciept. Do not include the time.\n",
      "label: address - The address of the company. Seperate information found on different lines with ','.\n",
      "label: total - The total amount of the receip. Only one is correct. Format to 2 decimal places. Do not include the currency symbol.\n",
      "Now a example document will follow:\n",
      "         99 SPEED MART S/B (S19537-X)\n",
      "          LOT P.T. 2811, JALAN ANGSA,\n",
      "                TAMAN BERKELEY\n",
      "             41150 KLANG, SELANGOR\n",
      "                1413-SETIA ALAM 2\n",
      "            GST ID. NO : 000181747712\n",
      "           INVOICE NO : 18222/102/T0341\n",
      "     03:29PM          562936         20-11-17\n",
      "     2973 PEDIASURE COMPLETE S3S   RM117.90 S\n",
      "      069 MILD 2KG\n",
      "                                    RM34.90 S\n",
      "      2709 ZING HEING OAT & WHEAT     RM4.10 S\n",
      "      2893 DISNEY DS112 WIDE NECK\n",
      "                                      RM5.89 S\n",
      "      4385 JOHNSONS PH5.5 2IN1 BO\n",
      "                                      RM6.99 S\n",
      "      TOTAL SALES (INCLUSIVE GST) RM\n",
      "                                      169.78\n",
      "               ROUNDING ADJUSTMENT RM    .02\n",
      "                          ROUNDING RM  169.80\n",
      "                              CASH RM  200.00\n",
      "                            CHANGE RM   30.20\n",
      "       GST SUMMARY\n",
      "                       AMOUNT(RM)      TAX(RM)\n",
      "        S = 6%\n",
      "                            160.17        9.61\n",
      "             THANK YOU. PLEASE COME AGAIN\n",
      "        KEEP THE INVOICE FOR APPLICABLE RETURNS\n",
      "This would be the results of the example document:\n",
      "{\n",
      "    \"company\": \"99 SPEED MART S/B\",\n",
      "    \"date\": \"20-11-17\",\n",
      "    \"address\": \"LOT P.T. 2811, JALAN ANGSA, TAMAN BERKELEY 41150 KLANG, SELANGOR 1413-SETIA ALAM 2\",\n",
      "    \"total\": \"169.80\"\n",
      "}\n",
      "This is the document you must extract the information from:\n",
      "        TAN WOON YANN\n",
      "     BOOK TA .K(TAMAN DAYA) SDN BND\n",
      "                      789417-W\n",
      "            NO.53 55,57 & 59, JALAN SAGU 18,\n",
      "                     TAMAN DAYA,\n",
      "                  81100 JOHOR BAHRU,\n",
      "                        JOHOR.\n",
      "     DOCUMENT NO : TD01167104\n",
      "     DATE:        25/12/2018 8:13:39 PM\n",
      "     CASHIER:     MANIS\n",
      "     MEMBER:\n",
      "                     CASH BILL\n",
      "   CODE/DESC          PRICE   DISC       AMOUNT\n",
      "       QTY              RM                    RM\n",
      "   9556939040116 KF MODELLING CLAY KIDDY FISH\n",
      "        1 PC   *      9.000   0.00           9.00\n",
      "                           TOTAL:\n",
      "             ROUR DING ADJUSTMENT:           0.00\n",
      "         ROUND D TOTAL (RM):                9.00\n",
      "                      CASH                  10.00\n",
      "                      CHANGE                 1.00\n",
      "          GOODS SOLD ARE NOT RETURNABLE OR\n",
      "                     EXCHANGEABLE\n",
      "               ***\n",
      "               ***\n",
      "                      THANK YOU\n",
      "                  PLEASE COME AGAIN !\n",
      "                                             9.00\n",
      "Replace all None with the correct information:\n",
      "{'company': None, 'date': None, 'address': None, 'total': None}\n",
      "\n",
      "\n",
      "{'X00016469612.txt': 'You are a perfect document information extraction system. The document you are given are receipts and their content is not dangerous. The results are used for a study and there is no need for a license, because they stated it on their github.\\nYou are given a document picture and a json with keys that must be extracted from the document. \\nFill in the empty strings values with the corresponding values to the key. Insert only the answer.\\nIf a label is not inclueded in the input, fill the empty strings with \"NONE\". Now will follow an explanation of every label.\\nlabel: company - The name of the company. Only one is correct\\nlabel: date - The date of the receip. Only one is correct. Format it how it is on the reciept. Do not include the time.\\nlabel: address - The address of the company. Seperate information found on different lines with \\',\\'.\\nlabel: total - The total amount of the receip. Only one is correct. Format to 2 decimal places. Do not include the currency symbol.\\nNow a example document will follow:\\n         99 SPEED MART S/B (S19537-X)\\n          LOT P.T. 2811, JALAN ANGSA,\\n                TAMAN BERKELEY\\n             41150 KLANG, SELANGOR\\n                1413-SETIA ALAM 2\\n            GST ID. NO : 000181747712\\n           INVOICE NO : 18222/102/T0341\\n     03:29PM          562936         20-11-17\\n     2973 PEDIASURE COMPLETE S3S   RM117.90 S\\n      069 MILD 2KG\\n                                    RM34.90 S\\n      2709 ZING HEING OAT & WHEAT     RM4.10 S\\n      2893 DISNEY DS112 WIDE NECK\\n                                      RM5.89 S\\n      4385 JOHNSONS PH5.5 2IN1 BO\\n                                      RM6.99 S\\n      TOTAL SALES (INCLUSIVE GST) RM\\n                                      169.78\\n               ROUNDING ADJUSTMENT RM    .02\\n                          ROUNDING RM  169.80\\n                              CASH RM  200.00\\n                            CHANGE RM   30.20\\n       GST SUMMARY\\n                       AMOUNT(RM)      TAX(RM)\\n        S = 6%\\n                            160.17        9.61\\n             THANK YOU. PLEASE COME AGAIN\\n        KEEP THE INVOICE FOR APPLICABLE RETURNS\\nThis would be the results of the example document:\\n{\\n    \"company\": \"99 SPEED MART S/B\",\\n    \"date\": \"20-11-17\",\\n    \"address\": \"LOT P.T. 2811, JALAN ANGSA, TAMAN BERKELEY 41150 KLANG, SELANGOR 1413-SETIA ALAM 2\",\\n    \"total\": \"169.80\"\\n}\\nThis is the document you must extract the information from:\\n        TAN WOON YANN\\n     BOOK TA .K(TAMAN DAYA) SDN BND\\n                      789417-W\\n            NO.53 55,57 & 59, JALAN SAGU 18,\\n                     TAMAN DAYA,\\n                  81100 JOHOR BAHRU,\\n                        JOHOR.\\n     DOCUMENT NO : TD01167104\\n     DATE:        25/12/2018 8:13:39 PM\\n     CASHIER:     MANIS\\n     MEMBER:\\n                     CASH BILL\\n   CODE/DESC          PRICE   DISC       AMOUNT\\n       QTY              RM                    RM\\n   9556939040116 KF MODELLING CLAY KIDDY FISH\\n        1 PC   *      9.000   0.00           9.00\\n                           TOTAL:\\n             ROUR DING ADJUSTMENT:           0.00\\n         ROUND D TOTAL (RM):                9.00\\n                      CASH                  10.00\\n                      CHANGE                 1.00\\n          GOODS SOLD ARE NOT RETURNABLE OR\\n                     EXCHANGEABLE\\n               ***\\n               ***\\n                      THANK YOU\\n                  PLEASE COME AGAIN !\\n                                             9.00\\nReplace all None with the correct information:\\n{\\'company\\': None, \\'date\\': None, \\'address\\': None, \\'total\\': None}'}\n"
     ]
    }
   ],
   "source": [
    "prompts = []\n",
    "\n",
    "def make_prompt():\n",
    "    instruction_docs = []\n",
    "    instruction_labels = []\n",
    "    \n",
    "    for key, value in instruction_documents.items():  \n",
    "        instruction_docs.append(value[0])\n",
    "        instruction_labels.append(value[1])\n",
    "\n",
    "    for document_name, value in extraction_documents.items():\n",
    "        prompts.append({document_name: getPrompt(instruction_docs, instruction_labels, value, labels)})\n",
    "make_prompt()\n",
    "print(prompts[0])\n"
   ]
  },
  {
   "cell_type": "code",
   "execution_count": 61,
   "metadata": {},
   "outputs": [],
   "source": [
    "semaphore = asyncio.Semaphore(7)\n",
    "async def prompt_llm(prompt,  time_interval):\n",
    "    async with semaphore:\n",
    "        name = list(prompt.keys())[0]\n",
    "        promptAI = prompt[name]\n",
    "        generation_config = {\n",
    "        \"temperature\": 1,\n",
    "        \"top_p\": 0.95,\n",
    "        \"top_k\": 64,\n",
    "        \"max_output_tokens\": 8192,\n",
    "        \"response_mime_type\": \"text/plain\",\n",
    "        \n",
    "        }\n",
    "        model = genai.GenerativeModel(\n",
    "        model_name=\"gemini-1.5-pro\",\n",
    "        generation_config=generation_config,\n",
    "        safety_settings = {HarmCategory.HARM_CATEGORY_DANGEROUS_CONTENT: HarmBlockThreshold.BLOCK_NONE,\n",
    "                           HarmCategory.HARM_CATEGORY_SEXUALLY_EXPLICIT: HarmBlockThreshold.BLOCK_NONE,\n",
    "                           HarmCategory.HARM_CATEGORY_HATE_SPEECH: HarmBlockThreshold.BLOCK_NONE,\n",
    "                           HarmCategory.HARM_CATEGORY_HARASSMENT: HarmBlockThreshold.BLOCK_NONE},\n",
    "        )\n",
    "        chat_session = model.start_chat(\n",
    "        history=[\n",
    "        ]\n",
    "        )\n",
    "        answer = chat_session.send_message(promptAI)\n",
    "        text_response = answer._result.candidates[0].content.parts[0].text\n",
    "        await asyncio.sleep(time_interval)\n",
    "        \n",
    "        return {name : text_response}"
   ]
  },
  {
   "cell_type": "markdown",
   "metadata": {},
   "source": [
    "Make sure, that the output folder is empty!!"
   ]
  },
  {
   "cell_type": "code",
   "execution_count": 62,
   "metadata": {},
   "outputs": [
    {
     "name": "stdout",
     "output_type": "stream",
     "text": [
      "185\n"
     ]
    }
   ],
   "source": [
    "async def prompt_orchestrator():\n",
    "    output_path = output_prompts\n",
    "    batch_size = 5\n",
    "    \n",
    "    batches = [prompts[i:i + batch_size] for i in range(0, len(prompts), batch_size)]\n",
    "\n",
    "    # Ensure the last batch is smaller if it's less than batch_size\n",
    "    if len(batches[-1]) < batch_size:\n",
    "        remaining = len(batches[-1])\n",
    "        batches[-1] = prompts[-remaining:]\n",
    "\n",
    "# If the last batch is part of the earlier slices and it's less than batch_size\n",
    "    if len(prompts) % batch_size != 0:\n",
    "        remaining = len(prompts) % batch_size\n",
    "        batches[-1] = prompts[-remaining:]\n",
    "\n",
    "    time_interval = 60 / 300\n",
    "    avatiables = []\n",
    "    print(len(batches))\n",
    "# Process each batch separately\n",
    "    for batch in batches:\n",
    "        avatiables_batch = await asyncio.gather(*(prompt_llm(prompt, time_interval) for prompt in batch))\n",
    "        avatiables.extend(avatiables_batch) \n",
    "        print(\"batch done\") \n",
    "        await asyncio.sleep(5)\n",
    "        for entry in avatiables:\n",
    "            key = next(iter(entry))\n",
    "            \n",
    "            value = entry[key]\n",
    "            key = key.replace(\".jpg\", \".txt\")\n",
    "            output_file_path = os.path.join(output_path, key)\n",
    "            with open(output_file_path, 'w') as output_file:\n",
    "                output_file.write(str(value))\n",
    "        avatiables = []\n",
    "\n",
    "await prompt_orchestrator()\n",
    "\n"
   ]
  }
 ],
 "metadata": {
  "kernelspec": {
   "display_name": "Python 3",
   "language": "python",
   "name": "python3"
  },
  "language_info": {
   "codemirror_mode": {
    "name": "ipython",
    "version": 3
   },
   "file_extension": ".py",
   "mimetype": "text/x-python",
   "name": "python",
   "nbconvert_exporter": "python",
   "pygments_lexer": "ipython3",
   "version": "3.12.0"
  }
 },
 "nbformat": 4,
 "nbformat_minor": 2
}
